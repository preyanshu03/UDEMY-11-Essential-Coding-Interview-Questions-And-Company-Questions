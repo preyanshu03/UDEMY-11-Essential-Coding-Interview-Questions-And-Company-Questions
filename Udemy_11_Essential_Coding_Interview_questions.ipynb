{
 "cells": [
  {
   "cell_type": "markdown",
   "metadata": {},
   "source": [
    "# 11 Essential Coding Interview Questions+Exercises \n",
    "## YK Sugi\n",
    "## Founder at CS Dojo / Former Software Developer at Google"
   ]
  },
  {
   "cell_type": "markdown",
   "metadata": {},
   "source": [
    "### Tips for solving problems \n",
    "\n",
    "1. Think on Paper\n",
    "2. Think about the big picture first.\n",
    "3. Think out load and ask questions.\n"
   ]
  },
  {
   "cell_type": "markdown",
   "metadata": {},
   "source": [
    "# QUESTION 0\n",
    "## Find the numbers that multipy to n in a list. For example in this list\n",
    "\n",
    "u = [2,4,6,1,5,40,-1,-20] \n",
    "## find the combinations that multiply to 20. \n",
    "## Answer (4,5),(-1,-20)\n",
    "\n",
    "\n",
    "## Learning\n",
    "The primary difference between the list sort() function and the sorted() function is that the sort() function will modify the list it is called on. The sorted() function will create a new list containing a sorted version of the list it is given. The sorted() function will not modify the list passed as a parameter.\n",
    "\n",
    "u.sort()\n",
    "\n",
    "sorted(u)\n",
    "\n",
    "Compare the brute force with optimum solution. Difference is huge. \n",
    "0.1s vs 2.2s\n",
    "\n",
    "\n"
   ]
  },
  {
   "cell_type": "code",
   "execution_count": 1,
   "metadata": {},
   "outputs": [
    {
     "data": {
      "text/plain": [
       "0.0"
      ]
     },
     "execution_count": 1,
     "metadata": {},
     "output_type": "execute_result"
    }
   ],
   "source": [
    "k = [2,4,6,1,5,40,-1,-20] \n",
    "k.sort()\n",
    "k\n",
    "-20%0.5"
   ]
  },
  {
   "cell_type": "code",
   "execution_count": null,
   "metadata": {},
   "outputs": [],
   "source": [
    "### BRUTE FORCE SOLUTION\n",
    "n= 20000\n",
    "##sList = [2,4,6,1,5,40,-1,-20] \n",
    "sList = range(1,1000000)\n",
    "#[k for k in sorted(sList)]\n",
    "j = [(k,n/k) for k in sorted(sList) if n%k == 0 if n/k in set(sList) if k < n/k ]   ####set_1 = set(list_1)  # this reduces the lookup time from O(n) to O(1)\n",
    "\n",
    "j"
   ]
  },
  {
   "cell_type": "code",
   "execution_count": null,
   "metadata": {},
   "outputs": [],
   "source": [
    "##OPTIMUM SOLUTION\n",
    "def multiplicationTwins(n,inputList):\n",
    "    sList = sorted(inputList)\n",
    "    res = []\n",
    "    for k in sList:\n",
    "        if n%k == 0:\n",
    "            div = n/k\n",
    "            if div > k:\n",
    "                continue\n",
    "            elif div <=k:\n",
    "                if div in sList[:sList.index(k)]:                  \n",
    "                    res.append((div,k))\n",
    "                \n",
    "    return res        \n",
    "            "
   ]
  },
  {
   "cell_type": "code",
   "execution_count": null,
   "metadata": {},
   "outputs": [],
   "source": [
    "k = [2,4,6,1,5,40,-1,-20] \n",
    "multiplicationTwins(20000,sList)"
   ]
  },
  {
   "cell_type": "markdown",
   "metadata": {},
   "source": [
    "# Question 1\n",
    "## MOST FREQUENTLY OCCURING ELEMENT IN AN ARRAY"
   ]
  },
  {
   "cell_type": "code",
   "execution_count": 27,
   "metadata": {},
   "outputs": [
    {
     "data": {
      "text/plain": [
       "-1"
      ]
     },
     "execution_count": 27,
     "metadata": {},
     "output_type": "execute_result"
    }
   ],
   "source": [
    "# Implement your function below.\n",
    "def most_frequent(given_list):\n",
    "    max_count = -1\n",
    "    max_item = None\n",
    "    count = {}\n",
    "    for i in given_list:\n",
    "        if i not in count:\n",
    "            count[i] = 1\n",
    "        else:\n",
    "            count[i] +=1\n",
    "            \n",
    "        if count[i] > max_count:\n",
    "            max_count = count[i]\n",
    "            max_item = i\n",
    "        \n",
    "        \n",
    "    return max_item\n",
    "\n",
    "# NOTE: The following input values will be used for testing your solution.\n",
    "# most_frequent(list1) should return 1\n",
    "list1 = [1, 3, 1, 3, 2, 1]\n",
    "# most_frequent(list2) should return 3\n",
    "list2 = [3, 3, 1, 3, 2, 1]\n",
    "# most_frequent(list3) should return None\n",
    "list3 = []\n",
    "# most_frequent(list4) should return 0\n",
    "list4 = [0]\n",
    " \n",
    " #should return -1\n",
    "list5 = [0, -1, 10, 10, -1, 10, -1, -1, -1, 1]\n",
    "most_frequent(list5) "
   ]
  },
  {
   "cell_type": "markdown",
   "metadata": {},
   "source": [
    "# QUESTION 2\n",
    "\n",
    "## find the common elements in 2 lists\n"
   ]
  },
  {
   "cell_type": "code",
   "execution_count": null,
   "metadata": {},
   "outputs": [],
   "source": [
    "# Implement your function below. Brute Force. Very inefficient O(n^2)\n",
    "def common_elements(list1, list2):\n",
    "    result = []\n",
    "    for i in list1:\n",
    "        if i in set(list2):\n",
    "            result.append(i)\n",
    "        \n",
    "    return result"
   ]
  },
  {
   "cell_type": "code",
   "execution_count": null,
   "metadata": {},
   "outputs": [],
   "source": [
    "# # NOTE: The following input values will be used for testing your solution.\n",
    "# list_a1 = [1, 3, 4, 6, 7, 9]\n",
    "# list_a2 = [1, 2, 4, 5, 9, 10]\n",
    "# # common_elements(list_a1, list_a2) should return [1, 4, 9] (a list).\n",
    "\n",
    "\n",
    "\n",
    "# list_b1 = [1, 2, 9, 10, 11, 12]\n",
    "# list_b2 = [0, 1, 2, 3, 4, 5, 8, 9, 10, 12, 14, 15]\n",
    "# common_elements(list_b1, list_b2) should return [1, 2, 9, 10, 12] (a list).\n",
    "#common_elements(list_b1, list_b2)\n",
    "\n",
    "# list_c1 = [0, 1, 2, 3, 4, 5]\n",
    "# list_c2 = [6, 7, 8, 9, 10, 11]\n",
    "# common_elements(list_c1, list_c2)\n",
    " #should return [] (an empty list).\n",
    "\n",
    "list_d1 = range(1,1000)\n",
    "list_d2 = range(1,100,3)\n",
    "common_elements(list_d1, list_d2)\n",
    "\n"
   ]
  },
  {
   "cell_type": "code",
   "execution_count": null,
   "metadata": {},
   "outputs": [],
   "source": [
    "# Efficient Solution for Question 2\n",
    "\n",
    "# Implement your function below.\n",
    "def common_elements(list1, list2):\n",
    "    result = []\n",
    "    p1 = 0 \n",
    "    p2 = 0\n",
    "    \n",
    "    for p1 in range(len(list1)):\n",
    "        #print(\"A\",p1,p2)\n",
    "        while (list1[p1] > list2[p2]):\n",
    "            p2 +=1\n",
    "            #print(\"A2\",list1[p1],list2[p2])\n",
    "        \n",
    "        if list1[p1] == list2[p2]:\n",
    "            result.append(list1[p1])\n",
    "            #print(\"B\",list1[p1], list2[p2])\n",
    "                \n",
    "    return result\n",
    "\n",
    "\n",
    "# NOTE: The following input values will be used for testing your solution.\n",
    "list_a1 = [1, 3, 4, 6, 7, 9]\n",
    "list_a2 = [1, 2, 4, 5, 9, 10]\n",
    "common_elements(list_a1, list_a2)\n",
    "#should return [1, 4, 9] (a list).\n",
    "\n",
    "list_b1 = [1, 2, 9, 10, 11, 12]\n",
    "list_b2 = [0, 1, 2, 3, 4, 5, 8, 9, 10, 12, 14, 15]\n",
    "#common_elements(list_b1, list_b2) \n",
    "#should return [1, 2, 9, 10, 12] (a list).\n",
    "\n",
    "list_c1 = [0, 1, 2, 3, 4, 5]\n",
    "list_c2 = [6, 7, 8, 9, 10, 11]\n",
    "#common_elements(list_c1, list_c2)\n",
    " #should return [] (an empty list)."
   ]
  },
  {
   "cell_type": "code",
   "execution_count": null,
   "metadata": {},
   "outputs": [],
   "source": [
    "# Implement your function below. Instructors' solution\n",
    "def common_elements(list1, list2):\n",
    "    p1 = 0\n",
    "    p2 = 0\n",
    "    result = []\n",
    "    while p1 < len(list1) and p2 < len(list2):\n",
    "        if list1[p1] == list2[p2]:\n",
    "            result.append(list1[p1])\n",
    "            p1 += 1\n",
    "            p2 += 1\n",
    "        elif list1[p1] > list2[p2]:\n",
    "            p2 += 1\n",
    "        else:\n",
    "            p1 += 1\n",
    "    return result\n",
    "\n",
    "\n",
    "# NOTE: The following input values will be used for testing your solution.\n",
    "list_a1 = [1, 3, 4, 6, 7, 9]\n",
    "list_a2 = [1, 2, 4, 5, 9, 10]\n",
    "common_elements(list_a1, list_a2)\n",
    "#should return [1, 4, 9] (a list).\n",
    "\n",
    "list_b1 = [1, 2, 9, 10, 11, 12]\n",
    "list_b2 = [0, 1, 2, 3, 4, 5, 8, 9, 10, 12, 14, 15]\n",
    "common_elements(list_b1, list_b2)\n",
    "#should return [1, 2, 9, 10, 12] (a list).\n",
    "\n",
    "list_c1 = [0, 1, 2, 3, 4, 5]\n",
    "list_c2 = [6, 7, 8, 9, 10, 11]\n",
    "# common_elements(list_b1, list_b2) should return [] (an empty list)."
   ]
  },
  {
   "cell_type": "markdown",
   "metadata": {},
   "source": [
    "# Question 3: Is one list a roation of another list\n",
    "\n",
    "list1 = [1, 2, 3, 4, 5, 6, 7]\n",
    "#### list2a = [4, 5, 6, 7, 8, 1, 2, 3]\n",
    "#### is_rotation(list1, list2a) should return False.\n",
    "list2b = [4, 5, 6, 7, 1, 2, 3]\n",
    "#### is_rotation(list1, list2b) should return True."
   ]
  },
  {
   "cell_type": "code",
   "execution_count": null,
   "metadata": {},
   "outputs": [],
   "source": [
    "def is_rotation(list1, list2):\n",
    "    p1 = 0\n",
    "    mod2 = list2.index(list1[p1]) if list1[p1] in list2 else None\n",
    "    p2 = mod2\n",
    "    count = 0\n",
    "    k = True\n",
    "    if len(list1) != len(list2):\n",
    "        return False\n",
    "    while k == True and count < max(len(list1),len(list2)):\n",
    "        print(\"Location\",p1,p2)\n",
    "        if list1[p1] == list2[p2]:\n",
    "            print(list1[p1], list2[p2])\n",
    "            p1 = (p1+1)%len(list1)\n",
    "            p2 = (p2+1)%len(list2) \n",
    "            k = True\n",
    "            count +=1\n",
    "        else:\n",
    "            return False           \n",
    "    return True"
   ]
  },
  {
   "cell_type": "code",
   "execution_count": null,
   "metadata": {},
   "outputs": [],
   "source": [
    "# NOTE: The following input values will be used for testing your solution.\n",
    "list1 = [1, 2, 3, 4, 5, 6, 7]\n",
    "list2a = [4, 5, 6, 7, 8, 1, 2, 3]\n",
    "print(is_rotation(list1, list2a))\n",
    "#should return False.\n",
    "list2b = [4, 5, 6, 7, 1, 2, 3]\n",
    "#print(is_rotation(list1, list2b))\n",
    "# should return True.\n",
    "list2c = [4, 5, 6, 9, 1, 2, 3]\n",
    "# is_rotation(list1, list2c) should return False.\n",
    "list2d = [4, 6, 5, 7, 1, 2, 3]\n",
    "# is_rotation(list1, list2d) should return False.\n",
    "list2e = [4, 5, 6, 7, 0, 2, 3]\n",
    "# is_rotation(list1, list2e) should return False.\n",
    "list2f = [1, 2, 3, 4, 5, 6, 7]\n",
    "# is_rotation(list1, list2f) should return True.\n",
    "list2g = [7, 1, 2, 3, 4, 5, 6]\n",
    "#is_rotation(list1, list2g) \n",
    "#should return True.\n",
    "\n"
   ]
  },
  {
   "cell_type": "code",
   "execution_count": null,
   "metadata": {},
   "outputs": [],
   "source": [
    "# Official Solution. The logic is mostly same.\n",
    "# Implement your function below.\n",
    "def is_rotation(list1, list2):\n",
    "    if len(list1) != len(list2):\n",
    "        return False\n",
    "    key = list1[0]\n",
    "    key_loc = -1\n",
    "    for i in range(len(list2)):\n",
    "        if list2[i] == key:\n",
    "            key_loc = i\n",
    "            break\n",
    "    if key_loc == -1:\n",
    "        return False\n",
    "    for i in range(len(list1)):\n",
    "        j = (key_loc + i) % len(list1)\n",
    "        if list1[i] != list2[j]:\n",
    "            return False\n",
    "    return True\n",
    "\n",
    "# NOTE: The following input values will be used for testing your solution.\n",
    "list1 = [1, 2, 3, 4, 5, 6, 7]\n",
    "list2a = [4, 5, 6, 7, 8, 1, 2, 3]\n",
    "# is_rotation(list1, list2a) should return False.\n",
    "list2b = [4, 5, 6, 7, 1, 2, 3]\n",
    "# is_rotation(list1, list2b) should return True.\n",
    "list2c = [4, 5, 6, 9, 1, 2, 3]\n",
    "# is_rotation(list1, list2c) should return False.\n",
    "list2d = [4, 6, 5, 7, 1, 2, 3]\n",
    "# is_rotation(list1, list2d) should return False.\n",
    "list2e = [4, 5, 6, 7, 0, 2, 3]\n",
    "# is_rotation(list1, list2e) should return False.\n",
    "list2f = [1, 2, 3, 4, 5, 6, 7]\n",
    "# is_rotation(list1, list2f) should return True.\n"
   ]
  },
  {
   "cell_type": "markdown",
   "metadata": {},
   "source": [
    "# Question 4 : Non Repeating Character\n",
    "\n",
    "#### Input :aabcb \n",
    "#### output :c\n",
    "\n",
    "### Learning(test if 2 lists are equal)\n",
    "### sorting both the lists\n",
    "#### test_list1.sort()\n",
    "#### test_list2.sort()\n",
    "  \n",
    " #### using == to check if \n",
    " #### lists are equal\n",
    "#### if test_list1 == test_list2:\n",
    "     print (\"The lists are identical\")\n",
    "#### else :\n",
    "     print (\"The lists are not identical\")"
   ]
  },
  {
   "cell_type": "code",
   "execution_count": 26,
   "metadata": {},
   "outputs": [
    {
     "name": "stdout",
     "output_type": "stream",
     "text": [
      "c\n"
     ]
    },
    {
     "data": {
      "text/plain": [
       "'d'"
      ]
     },
     "execution_count": 26,
     "metadata": {},
     "output_type": "execute_result"
    }
   ],
   "source": [
    "# Implement your function below.\n",
    "def non_repeating(given_string):\n",
    "    l = list(given_string)\n",
    "    countLoc = {}\n",
    "    for x in l:\n",
    "        if x not in countLoc:\n",
    "            countLoc[x] = [1,l.index(x)]\n",
    "        else:\n",
    "            countLoc[x][0] += 1\n",
    "            \n",
    "    for c in countLoc:\n",
    "        #print(c, countLoc[c])\n",
    "        if countLoc[c][0] == 1:\n",
    "            return c\n",
    "\n",
    "# NOTE: The following input values will be used for testing your solution.\n",
    "print(non_repeating(\"abcab\")) # should return 'c'\n",
    "non_repeating(\"abab\") # should return None\n",
    "non_repeating(\"aabbbc\") # should return 'c'\n",
    "non_repeating(\"aabbdbc\") # should return 'd'\n",
    "\n"
   ]
  },
  {
   "cell_type": "code",
   "execution_count": 1,
   "metadata": {},
   "outputs": [
    {
     "data": {
      "text/plain": [
       "{'a': [1, 6], 'b': [2, 3]}"
      ]
     },
     "execution_count": 1,
     "metadata": {},
     "output_type": "execute_result"
    }
   ],
   "source": [
    "dict2 = {'a':[1,5],'b':[2,3]}\n",
    "dict2\n",
    "dict2['a'][1]\n",
    "dict2['a'][1] +=1\n",
    "dict2"
   ]
  },
  {
   "cell_type": "markdown",
   "metadata": {},
   "source": [
    "## Flatten a list\n",
    "\n",
    "[1,2,3,[4,5,[6,[7,]]]]"
   ]
  },
  {
   "cell_type": "code",
   "execution_count": 5,
   "metadata": {},
   "outputs": [
    {
     "ename": "TypeError",
     "evalue": "'int' object is not iterable",
     "output_type": "error",
     "traceback": [
      "\u001b[1;31m---------------------------------------------------------------------------\u001b[0m",
      "\u001b[1;31mTypeError\u001b[0m                                 Traceback (most recent call last)",
      "\u001b[1;32m<ipython-input-5-2d4047a8a64f>\u001b[0m in \u001b[0;36m<module>\u001b[1;34m\u001b[0m\n\u001b[0;32m      4\u001b[0m \u001b[1;31m# sum(list(pd.Series(a).explode().explode().explode()))\u001b[0m\u001b[1;33m\u001b[0m\u001b[1;33m\u001b[0m\u001b[1;33m\u001b[0m\u001b[0m\n\u001b[0;32m      5\u001b[0m \u001b[1;33m\u001b[0m\u001b[0m\n\u001b[1;32m----> 6\u001b[1;33m \u001b[1;33m[\u001b[0m\u001b[0mi\u001b[0m \u001b[1;32mfor\u001b[0m \u001b[0mk\u001b[0m \u001b[1;32min\u001b[0m \u001b[0ma\u001b[0m \u001b[1;32mfor\u001b[0m \u001b[0mi\u001b[0m \u001b[1;32min\u001b[0m \u001b[0mk\u001b[0m\u001b[1;33m]\u001b[0m\u001b[1;33m\u001b[0m\u001b[1;33m\u001b[0m\u001b[0m\n\u001b[0m\u001b[0;32m      7\u001b[0m \u001b[1;33m\u001b[0m\u001b[0m\n\u001b[0;32m      8\u001b[0m \u001b[1;32mfor\u001b[0m \u001b[0mk\u001b[0m \u001b[1;32min\u001b[0m \u001b[0ma\u001b[0m\u001b[1;33m:\u001b[0m\u001b[1;33m\u001b[0m\u001b[1;33m\u001b[0m\u001b[0m\n",
      "\u001b[1;32m<ipython-input-5-2d4047a8a64f>\u001b[0m in \u001b[0;36m<listcomp>\u001b[1;34m(.0)\u001b[0m\n\u001b[0;32m      4\u001b[0m \u001b[1;31m# sum(list(pd.Series(a).explode().explode().explode()))\u001b[0m\u001b[1;33m\u001b[0m\u001b[1;33m\u001b[0m\u001b[1;33m\u001b[0m\u001b[0m\n\u001b[0;32m      5\u001b[0m \u001b[1;33m\u001b[0m\u001b[0m\n\u001b[1;32m----> 6\u001b[1;33m \u001b[1;33m[\u001b[0m\u001b[0mi\u001b[0m \u001b[1;32mfor\u001b[0m \u001b[0mk\u001b[0m \u001b[1;32min\u001b[0m \u001b[0ma\u001b[0m \u001b[1;32mfor\u001b[0m \u001b[0mi\u001b[0m \u001b[1;32min\u001b[0m \u001b[0mk\u001b[0m\u001b[1;33m]\u001b[0m\u001b[1;33m\u001b[0m\u001b[1;33m\u001b[0m\u001b[0m\n\u001b[0m\u001b[0;32m      7\u001b[0m \u001b[1;33m\u001b[0m\u001b[0m\n\u001b[0;32m      8\u001b[0m \u001b[1;32mfor\u001b[0m \u001b[0mk\u001b[0m \u001b[1;32min\u001b[0m \u001b[0ma\u001b[0m\u001b[1;33m:\u001b[0m\u001b[1;33m\u001b[0m\u001b[1;33m\u001b[0m\u001b[0m\n",
      "\u001b[1;31mTypeError\u001b[0m: 'int' object is not iterable"
     ]
    }
   ],
   "source": [
    "import pandas as pd\n",
    "a= [1,2,3,[4,5,[6,[7,]]]]\n",
    "a\n",
    "# sum(list(pd.Series(a).explode().explode().explode()))\n",
    "\n",
    "[i for k in a for i in k]\n",
    "\n",
    "for k in a:\n",
    "        print(k)\n",
    "\n",
    "\n",
    "\n",
    "a\n"
   ]
  },
  {
   "cell_type": "markdown",
   "metadata": {},
   "source": [
    "## Amex question 1."
   ]
  },
  {
   "cell_type": "code",
   "execution_count": 212,
   "metadata": {},
   "outputs": [],
   "source": [
    "def solution(A, D):\n",
    "   \n",
    "        count = {}\n",
    "        amount = {}\n",
    "        feesPerMonth = 5\n",
    "        TotalFees = feesPerMonth*12\n",
    "        Sum1 = sum(A)\n",
    "        TotalSum = 0\n",
    "        for i in range(len(D)):\n",
    "            mon = D[i][5:7]\n",
    "            if A[i] < 0: \n",
    "                if mon not in count:\n",
    "                    count[mon] = 1\n",
    "                else:\n",
    "                    count[mon] +=1\n",
    "                if mon not in amount:\n",
    "                    amount[mon] = A[i]\n",
    "                else:\n",
    "                    amount[mon] += A[i]\n",
    "\n",
    "                if count[mon] >= 3 and abs(amount[mon]) >= 100:\n",
    "                    TotalFees -=5\n",
    "\n",
    "        TotalSum = Sum1-TotalFees\n",
    "\n",
    "        return TotalSum\n"
   ]
  },
  {
   "cell_type": "markdown",
   "metadata": {},
   "source": [
    "## Amex Question 2"
   ]
  },
  {
   "cell_type": "code",
   "execution_count": null,
   "metadata": {},
   "outputs": [],
   "source": [
    "def solution(X, Y, A):\n",
    "    N = len(A)\n",
    "    result = -1\n",
    "    nX = 0\n",
    "    nY = 0\n",
    "    for i in range(N):\n",
    "        if A[i] == X:\n",
    "            nX += 1\n",
    "        if A[i] == Y:\n",
    "            nY += 1\n",
    "        if nX == nY:\n",
    "            result = i\n",
    "    return result\n"
   ]
  },
  {
   "cell_type": "markdown",
   "metadata": {},
   "source": [
    "## UnifyTech Question 1\n",
    "\n",
    "\n",
    "List - [10,3,2,6,7,12,5,11,1]\n",
    "\n",
    "[100,3,2,6,7,12,5,11,1]\n",
    "\n",
    "[100,3,2,6,7,12,5,11,1000]\n",
    "\n",
    "Second Largest Number without using any existing functions\n",
    "\n"
   ]
  },
  {
   "cell_type": "code",
   "execution_count": 23,
   "metadata": {},
   "outputs": [
    {
     "name": "stdout",
     "output_type": "stream",
     "text": [
      "100\n",
      "1000\n"
     ]
    }
   ],
   "source": [
    "li = [100,3,2,6,7,12,5,11,1000]\n",
    "\n",
    "if li[0] > li[1]:\n",
    "    max_num = li[0]\n",
    "    max2num = li[1]\n",
    "else:\n",
    "    max_num = li[1]\n",
    "    max2num = li[0]\n",
    "#print(max_num)\n",
    "#print(max2num)\n",
    "#print(range(3,len(li)))\n",
    "for i in range(2,len(li)):\n",
    "    #print(\"----------------------------------------------------------------------------\")\n",
    "    if li[i] >= max_num:\n",
    "        max2num = max_num\n",
    "        max_num = li[i]\n",
    "        #print(\"1st if\")\n",
    "        #print(max_num)\n",
    "        #print(max2num)\n",
    "    elif li[i] > max2num and max2num < max_num:\n",
    "        max2num = li[i]\n",
    "        #print(\"2nd if\")\n",
    "        #print(max2num)\n",
    "\n",
    "\n",
    "print(max2num)\n",
    "print(max_num)        \n",
    "    \n",
    "\n",
    "\n",
    "\n"
   ]
  },
  {
   "cell_type": "markdown",
   "metadata": {},
   "source": [
    "## One Away Strings \n",
    "\n",
    "is_one_away(\"abcde\", \"abcd\")  # should return True\n",
    "\n",
    "is_one_away(\"abde\", \"abcde\")  # should return True\n",
    "\n",
    "is_one_away(\"a\", \"a\")  # should return True\n",
    "\n",
    "is_one_away(\"abcdef\", \"abqdef\")  # should return True\n",
    "\n",
    "is_one_away(\"abcdef\", \"abccef\")  # should return True\n",
    "\n",
    "is_one_away(\"abcdef\", \"abcde\")  # should return True\n",
    "\n",
    "is_one_away(\"aaa\", \"abc\")  # should return False\n",
    "\n",
    "is_one_away(\"abcde\", \"abc\")  # should return False\n",
    "\n",
    "is_one_away(\"abc\", \"abcde\")  # should return False\n",
    "\n",
    "is_one_away(\"abc\", \"bcc\")  # should return False\n"
   ]
  },
  {
   "cell_type": "code",
   "execution_count": 35,
   "metadata": {},
   "outputs": [
    {
     "data": {
      "text/plain": [
       "False"
      ]
     },
     "execution_count": 35,
     "metadata": {},
     "output_type": "execute_result"
    }
   ],
   "source": [
    "# Implement your function below.\n",
    "def is_one_away(s1, s2):\n",
    "    if len(s1) - len(s2) >= 2 or len(s2) - len(s1) >= 2:\n",
    "        return False\n",
    "    elif len(s1) == len(s2):\n",
    "        return is_one_away_same_length(s1, s2)\n",
    "    elif len(s1) > len(s2):\n",
    "        return is_one_away_diff_lengths(s1, s2)\n",
    "    else:\n",
    "        return is_one_away_diff_lengths(s2, s1)\n",
    "\n",
    "\n",
    "def is_one_away_same_length(s1, s2):\n",
    "    count_diff = 0\n",
    "    for i in range(len(s1)):\n",
    "        if not s1[i] == s2[i]:\n",
    "            count_diff += 1\n",
    "            if count_diff > 1:\n",
    "                return False\n",
    "    return True\n",
    "\n",
    "\n",
    "# Assumption: len(s1) == len(s2) + 1\n",
    "def is_one_away_diff_lengths(s1, s2):\n",
    "    i = 0\n",
    "    count_diff = 0\n",
    "    while i < len(s2):\n",
    "        if s1[i + count_diff] == s2[i]:\n",
    "            i += 1\n",
    "        else:\n",
    "            count_diff += 1\n",
    "            if count_diff > 1:\n",
    "                return False\n",
    "    return True\n",
    "\n",
    "# NOTE: The following input values will be used for testing your solution.\n",
    "#is_one_away(\"abcde\", \"abcd\")  # should return True\n",
    "#is_one_away(\"abde\", \"abcde\")  # should return True\n",
    "#is_one_away(\"a\", \"a\")  # should return True\n",
    "#is_one_away(\"abcdef\", \"abqdef\")  # should return True\n",
    "#is_one_away(\"abcdef\", \"abccef\")  # should return True\n",
    "#is_one_away(\"abcdef\", \"abcde\")  # should return True\n",
    "#is_one_away(\"aaa\", \"abc\")  # should return False\n",
    "is_one_away(\"abcde\", \"abc\")  # should return False\n",
    "#is_one_away(\"abc\", \"abcde\")  # should return False\n",
    "#is_one_away(\"abc\", \"bcc\")  # should return False\n"
   ]
  },
  {
   "cell_type": "markdown",
   "metadata": {},
   "source": [
    "## Rotataing a 2D Array by 90 degrees"
   ]
  },
  {
   "cell_type": "code",
   "execution_count": null,
   "metadata": {},
   "outputs": [],
   "source": []
  }
 ],
 "metadata": {
  "interpreter": {
   "hash": "b3ba2566441a7c06988d0923437866b63cedc61552a5af99d1f4fb67d367b25f"
  },
  "kernelspec": {
   "display_name": "Python 3.8.3 64-bit ('base': conda)",
   "name": "python3"
  },
  "language_info": {
   "codemirror_mode": {
    "name": "ipython",
    "version": 3
   },
   "file_extension": ".py",
   "mimetype": "text/x-python",
   "name": "python",
   "nbconvert_exporter": "python",
   "pygments_lexer": "ipython3",
   "version": "3.8.3"
  },
  "orig_nbformat": 4
 },
 "nbformat": 4,
 "nbformat_minor": 2
}
